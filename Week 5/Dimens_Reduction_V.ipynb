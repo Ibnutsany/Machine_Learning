{
  "nbformat": 4,
  "nbformat_minor": 0,
  "metadata": {
    "colab": {
      "provenance": [],
      "authorship_tag": "ABX9TyOXmlDQLcGUjfDuPb1faC+Q",
      "include_colab_link": true
    },
    "kernelspec": {
      "name": "python3",
      "display_name": "Python 3"
    },
    "language_info": {
      "name": "python"
    }
  },
  "cells": [
    {
      "cell_type": "markdown",
      "metadata": {
        "id": "view-in-github",
        "colab_type": "text"
      },
      "source": [
        "<a href=\"https://colab.research.google.com/github/Ibnutsany/Machine_Learning/blob/main/Week%205/Dimens_Reduction_V.ipynb\" target=\"_parent\"><img src=\"https://colab.research.google.com/assets/colab-badge.svg\" alt=\"Open In Colab\"/></a>"
      ]
    },
    {
      "cell_type": "code",
      "execution_count": null,
      "metadata": {
        "colab": {
          "base_uri": "https://localhost:8080/"
        },
        "id": "nD4LYcorzhih",
        "outputId": "3b80d214-d4c6-4320-f134-091226394d26"
      },
      "outputs": [
        {
          "output_type": "stream",
          "name": "stdout",
          "text": [
            "jumlah baris 150\n"
          ]
        }
      ],
      "source": [
        "from sklearn import datasets\n",
        "from sklearn.model_selection import train_test_split\n",
        "iris=datasets.load_iris()\n",
        "atribut = iris.data\n",
        "label=iris.target\n",
        "#check ds\n",
        "baris=len(atribut)\n",
        "print(\"jumlah baris\",baris)\n",
        "#spliting datasets\n",
        "X_train,X_test,y_train,y_test=train_test_split(atribut,label,test_size=0.2)"
      ]
    },
    {
      "cell_type": "code",
      "source": [
        "\n",
        "from sklearn import tree\n",
        "decision_tree=tree.DecisionTreeClassifier()\n",
        "model_nodimensionalityred=decision_tree.fit(X_train,y_train)\n",
        "model_nodimensionalityred.score(X_test, y_test)"
      ],
      "metadata": {
        "colab": {
          "base_uri": "https://localhost:8080/"
        },
        "id": "ioSiNBRozxRV",
        "outputId": "e59ef7d9-772c-4fb1-ee94-40a5fc0afdaf"
      },
      "execution_count": null,
      "outputs": [
        {
          "output_type": "execute_result",
          "data": {
            "text/plain": [
              "0.9"
            ]
          },
          "metadata": {},
          "execution_count": 2
        }
      ]
    },
    {
      "cell_type": "code",
      "source": [
        "\n",
        "from sklearn.decomposition import PCA\n",
        "#membuat 4 principal component\n",
        "pca=PCA(n_components=4)\n",
        "#mengaplikasikan PCA pada dataset\n",
        "pca_attributes=pca.fit_transform(X_train)\n",
        "#melihat vvariance dari setiap atribut\n",
        "pca.explained_variance_ratio_"
      ],
      "metadata": {
        "colab": {
          "base_uri": "https://localhost:8080/"
        },
        "id": "3qr6VMuZzxTP",
        "outputId": "5d95fc9c-ce1a-4c7f-8aff-b51c4ce6d39a"
      },
      "execution_count": null,
      "outputs": [
        {
          "output_type": "execute_result",
          "data": {
            "text/plain": [
              "array([0.93009877, 0.04780675, 0.01755529, 0.00453919])"
            ]
          },
          "metadata": {},
          "execution_count": 3
        }
      ]
    },
    {
      "cell_type": "code",
      "source": [
        "#2 principal component\n",
        "pca=PCA(n_components=2)\n",
        "X_train_pca=pca.fit_transform(X_train)\n",
        "X_test_pca=pca.fit_transform(X_test)"
      ],
      "metadata": {
        "id": "lDyNj8YTzxVg"
      },
      "execution_count": null,
      "outputs": []
    },
    {
      "cell_type": "code",
      "source": [
        "#uji akurasi model dengan pca dim reduc\n",
        "model_dengan_PCA_2_components=decision_tree.fit(X_train_pca,y_train)\n",
        "model_dengan_PCA_2_components.score(X_test_pca, y_test)"
      ],
      "metadata": {
        "colab": {
          "base_uri": "https://localhost:8080/"
        },
        "id": "CQbto6qPzxXp",
        "outputId": "6b179af9-0da7-4dbc-82d0-67f1679a9061"
      },
      "execution_count": null,
      "outputs": [
        {
          "output_type": "execute_result",
          "data": {
            "text/plain": [
              "0.9"
            ]
          },
          "metadata": {},
          "execution_count": 5
        }
      ]
    },
    {
      "cell_type": "code",
      "source": [
        "#uji akurasi model dengan pca\n",
        "model_dengan_PCA_2_components=decision_tree.fit(X_train_pca,y_train)\n",
        "model_dengan_PCA_2_components.score(X_test_pca, y_test)"
      ],
      "metadata": {
        "colab": {
          "base_uri": "https://localhost:8080/"
        },
        "id": "sDoyMlzBzxZr",
        "outputId": "21166197-2a75-4911-af31-e481e8328f7b"
      },
      "execution_count": null,
      "outputs": [
        {
          "output_type": "execute_result",
          "data": {
            "text/plain": [
              "0.9"
            ]
          },
          "metadata": {},
          "execution_count": 6
        }
      ]
    }
  ]
}