{
  "nbformat": 4,
  "nbformat_minor": 0,
  "metadata": {
    "colab": {
      "provenance": [],
      "authorship_tag": "ABX9TyMY/yg5GDhZ18wzhOYHN++E",
      "include_colab_link": true
    },
    "kernelspec": {
      "name": "python3",
      "display_name": "Python 3"
    },
    "language_info": {
      "name": "python"
    }
  },
  "cells": [
    {
      "cell_type": "markdown",
      "metadata": {
        "id": "view-in-github",
        "colab_type": "text"
      },
      "source": [
        "<a href=\"https://colab.research.google.com/github/Ibnutsany/Machine_Learning/blob/main/Week%209/NN_On_Anydataset.ipynb\" target=\"_parent\"><img src=\"https://colab.research.google.com/assets/colab-badge.svg\" alt=\"Open In Colab\"/></a>"
      ]
    },
    {
      "cell_type": "code",
      "execution_count": 13,
      "metadata": {
        "id": "rMzGF9LUV6JJ"
      },
      "outputs": [],
      "source": [
        "import numpy as np\n",
        "import pandas as pd\n",
        "\n",
        "%matplotlib inline\n",
        "import matplotlib.pyplot as plt\n",
        "import matplotlib.cm as cm\n",
        "\n",
        "import tensorflow as tf\n",
        "\n",
        "# settings\n",
        "LEARNING_RATE = 1e-4\n",
        "# set to 20000 on local environment to get 0.99 accuracy\n",
        "TRAINING_ITERATIONS = 2500\n",
        "\n",
        "DROPOUT = 0.5\n",
        "BATCH_SIZE = 50\n",
        "\n",
        "# set to 0 to train on all available data\n",
        "VALIDATION_SIZE = 2000\n",
        "\n",
        "# image number to output\n",
        "IMAGE_TO_DISPLAY = 10"
      ]
    },
    {
      "cell_type": "code",
      "source": [
        "# read training data from CSV file\n",
        "data = pd.read_csv('/content/train.csv')\n",
        "\n",
        "print('data({0[0]},{0[1]})'.format(data.shape))\n",
        "print (data.head())"
      ],
      "metadata": {
        "colab": {
          "base_uri": "https://localhost:8080/"
        },
        "id": "BkR8OAUNapm9",
        "outputId": "0358c12b-21ff-4251-d52a-d52fa6e35744"
      },
      "execution_count": 14,
      "outputs": [
        {
          "output_type": "stream",
          "name": "stdout",
          "text": [
            "data(9800,18)\n",
            "   Row ID        Order ID  Order Date   Ship Date       Ship Mode Customer ID  \\\n",
            "0       1  CA-2017-152156  08/11/2017  11/11/2017    Second Class    CG-12520   \n",
            "1       2  CA-2017-152156  08/11/2017  11/11/2017    Second Class    CG-12520   \n",
            "2       3  CA-2017-138688  12/06/2017  16/06/2017    Second Class    DV-13045   \n",
            "3       4  US-2016-108966  11/10/2016  18/10/2016  Standard Class    SO-20335   \n",
            "4       5  US-2016-108966  11/10/2016  18/10/2016  Standard Class    SO-20335   \n",
            "\n",
            "     Customer Name    Segment        Country             City       State  \\\n",
            "0      Claire Gute   Consumer  United States        Henderson    Kentucky   \n",
            "1      Claire Gute   Consumer  United States        Henderson    Kentucky   \n",
            "2  Darrin Van Huff  Corporate  United States      Los Angeles  California   \n",
            "3   Sean O'Donnell   Consumer  United States  Fort Lauderdale     Florida   \n",
            "4   Sean O'Donnell   Consumer  United States  Fort Lauderdale     Florida   \n",
            "\n",
            "   Postal Code Region       Product ID         Category Sub-Category  \\\n",
            "0      42420.0  South  FUR-BO-10001798        Furniture    Bookcases   \n",
            "1      42420.0  South  FUR-CH-10000454        Furniture       Chairs   \n",
            "2      90036.0   West  OFF-LA-10000240  Office Supplies       Labels   \n",
            "3      33311.0  South  FUR-TA-10000577        Furniture       Tables   \n",
            "4      33311.0  South  OFF-ST-10000760  Office Supplies      Storage   \n",
            "\n",
            "                                        Product Name     Sales  \n",
            "0                  Bush Somerset Collection Bookcase  261.9600  \n",
            "1  Hon Deluxe Fabric Upholstered Stacking Chairs,...  731.9400  \n",
            "2  Self-Adhesive Address Labels for Typewriters b...   14.6200  \n",
            "3      Bretford CR4500 Series Slim Rectangular Table  957.5775  \n",
            "4                     Eldon Fold 'N Roll Cart System   22.3680  \n"
          ]
        }
      ]
    },
    {
      "cell_type": "code",
      "source": [
        "import numpy as np\n",
        "import pandas as pd\n",
        "\n",
        "# Assuming you want to exclude the first column (index 0) which may contain non-numeric values\n",
        "numeric_data = data.iloc[:, 1:].copy()\n",
        "\n",
        "# Check for missing values\n",
        "missing_values = numeric_data.isnull().sum()\n",
        "print('Missing values:\\n', missing_values)\n",
        "\n",
        "# Convert each column to numeric using apply\n",
        "numeric_data = numeric_data.apply(pd.to_numeric, errors='coerce')\n",
        "\n",
        "# Fill NaN values with a specific value or use other imputation strategies if needed\n",
        "numeric_data = numeric_data.fillna(0)  # Replace NaN with 0, adjust as needed\n",
        "\n",
        "# Convert numeric data from [0:255] => [0.0:1.0]\n",
        "numeric_data = numeric_data.astype(np.float) / 255.0\n",
        "\n",
        "print('numeric_data({0},{1})'.format(numeric_data.shape[0], numeric_data.shape[1]))"
      ],
      "metadata": {
        "colab": {
          "base_uri": "https://localhost:8080/"
        },
        "id": "d0ffmwakappN",
        "outputId": "bf459a45-b8dd-4659-a441-1172ac3f80e1"
      },
      "execution_count": 15,
      "outputs": [
        {
          "output_type": "stream",
          "name": "stdout",
          "text": [
            "Missing values:\n",
            " Order ID          0\n",
            "Order Date        0\n",
            "Ship Date         0\n",
            "Ship Mode         0\n",
            "Customer ID       0\n",
            "Customer Name     0\n",
            "Segment           0\n",
            "Country           0\n",
            "City              0\n",
            "State             0\n",
            "Postal Code      11\n",
            "Region            0\n",
            "Product ID        0\n",
            "Category          0\n",
            "Sub-Category      0\n",
            "Product Name      0\n",
            "Sales             0\n",
            "dtype: int64\n",
            "numeric_data(9800,17)\n"
          ]
        },
        {
          "output_type": "stream",
          "name": "stderr",
          "text": [
            "<ipython-input-15-89bf4bf4254c>:18: DeprecationWarning: `np.float` is a deprecated alias for the builtin `float`. To silence this warning, use `float` by itself. Doing this will not modify any behavior and is safe. If you specifically wanted the numpy scalar type, use `np.float64` here.\n",
            "Deprecated in NumPy 1.20; for more details and guidance: https://numpy.org/devdocs/release/1.20.0-notes.html#deprecations\n",
            "  numeric_data = numeric_data.astype(np.float) / 255.0\n"
          ]
        }
      ]
    },
    {
      "cell_type": "code",
      "source": [
        "import numpy as np\n",
        "\n",
        "# Assuming images is a 2D NumPy array with multiple rows (each row represents an image)\n",
        "# Replace this with your actual image data\n",
        "images = np.random.rand(100, 64*64)  # Example: 100 images, each with 64*64 pixels\n",
        "\n",
        "# Now you can use the provided code for calculating image size, width, and height\n",
        "image_size = images.shape[1]\n",
        "print('image_size => {0}'.format(image_size))\n",
        "\n",
        "# In this case, all images are square\n",
        "image_width = image_height = int(np.sqrt(image_size))\n",
        "\n",
        "print('image_width => {0}\\nimage_height => {1}'.format(image_width, image_height))"
      ],
      "metadata": {
        "id": "j3k8fygq3Xmx",
        "outputId": "9a915902-65bf-45c5-ce63-baaa8d6f931e",
        "colab": {
          "base_uri": "https://localhost:8080/"
        }
      },
      "execution_count": 16,
      "outputs": [
        {
          "output_type": "stream",
          "name": "stdout",
          "text": [
            "image_size => 4096\n",
            "image_width => 64\n",
            "image_height => 64\n"
          ]
        }
      ]
    },
    {
      "cell_type": "code",
      "source": [
        "import matplotlib.pyplot as plt\n",
        "import matplotlib.cm as cm\n",
        "import numpy as np\n",
        "\n",
        "# Assuming image_width and image_height are defined somewhere in your code\n",
        "image_width = 28\n",
        "image_height = 28\n",
        "\n",
        "# Assuming IMAGE_TO_DISPLAY is defined somewhere in your code\n",
        "IMAGE_TO_DISPLAY = 0  # Change this to the index of the image you want to display\n",
        "\n",
        "# display image\n",
        "def display(img):\n",
        "    # Handle non-numeric values by converting them to NaN\n",
        "    img = pd.to_numeric(img, errors='coerce')\n",
        "    img = np.asarray(img).astype(float)\n",
        "\n",
        "    print(\"Image shape before reshaping:\", img.shape)  # Add this line\n",
        "    # Assuming img is a 1D array with size equal to 11\n",
        "    # Reshape to a square (if possible) or handle based on your data\n",
        "    square_size = int(np.sqrt(img.size))\n",
        "    one_image = img[:square_size * square_size].reshape(square_size, square_size)\n",
        "\n",
        "    plt.axis('off')\n",
        "    plt.imshow(one_image, cmap=cm.binary)\n",
        "    plt.show()\n",
        "\n",
        "# output image\n",
        "display(images[IMAGE_TO_DISPLAY])"
      ],
      "metadata": {
        "colab": {
          "base_uri": "https://localhost:8080/",
          "height": 423
        },
        "id": "Smm6raiEapxS",
        "outputId": "29699679-d017-453c-d974-dda12f31f50a"
      },
      "execution_count": 17,
      "outputs": [
        {
          "output_type": "stream",
          "name": "stdout",
          "text": [
            "Image shape before reshaping: (4096,)\n"
          ]
        },
        {
          "output_type": "display_data",
          "data": {
            "text/plain": [
              "<Figure size 640x480 with 1 Axes>"
            ],
            "image/png": "[encoded data removed]"
          },
          "metadata": {}
        }
      ]
    },
    {
      "cell_type": "code",
      "source": [
        "import pandas as pd\n",
        "\n",
        "# Assuming data is your DataFrame, and IMAGE_TO_DISPLAY is defined somewhere in your code\n",
        "IMAGE_TO_DISPLAY = 0  # Change this to the index of the image you want to display\n",
        "\n",
        "# Extract labels\n",
        "labels_flat = data.iloc[:, 0].values.ravel()\n",
        "\n",
        "print('labels_flat({0})'.format(len(labels_flat)))\n",
        "print('labels_flat[{0}] => {1}'.format(IMAGE_TO_DISPLAY, labels_flat[IMAGE_TO_DISPLAY]))"
      ],
      "metadata": {
        "colab": {
          "base_uri": "https://localhost:8080/"
        },
        "id": "SXSPHS2-apyl",
        "outputId": "1b540c72-cfcb-493b-c5db-29825aec449c"
      },
      "execution_count": 18,
      "outputs": [
        {
          "output_type": "stream",
          "name": "stdout",
          "text": [
            "labels_flat(9800)\n",
            "labels_flat[0] => 1\n"
          ]
        }
      ]
    },
    {
      "cell_type": "code",
      "source": [
        "labels_count = np.unique(labels_flat).shape[0]\n",
        "\n",
        "print('labels_count => {0}'.format(labels_count))"
      ],
      "metadata": {
        "colab": {
          "base_uri": "https://localhost:8080/"
        },
        "id": "Z0533J96apz_",
        "outputId": "c1cacc8e-cef3-4503-ef6e-ce96d3b8c545"
      },
      "execution_count": 19,
      "outputs": [
        {
          "output_type": "stream",
          "name": "stdout",
          "text": [
            "labels_count => 9800\n"
          ]
        }
      ]
    },
    {
      "cell_type": "code",
      "source": [
        "def dense_to_one_hot(labels_dense, num_classes):\n",
        "    num_labels = labels_dense.shape[0]\n",
        "    index_offset = np.arange(num_labels) * num_classes\n",
        "    labels_one_hot = np.zeros((num_labels, num_classes))\n",
        "\n",
        "    print(\"num_labels:\", num_labels)\n",
        "    print(\"index_offset shape:\", index_offset.shape)\n",
        "    print(\"labels_one_hot shape:\", labels_one_hot.shape)\n",
        "\n",
        "    try:\n",
        "        labels_one_hot.flat[index_offset + labels_dense.ravel()] = 1\n",
        "    except IndexError as e:\n",
        "        print(\"IndexError:\", e)\n",
        "\n",
        "    return labels_one_hot\n",
        "\n",
        "# Assuming labels_flat and labels_count are defined somewhere in your code\n",
        "labels = dense_to_one_hot(labels_flat, labels_count)\n",
        "labels = labels.astype(np.uint8)\n",
        "\n",
        "print('labels shape:', labels.shape)"
      ],
      "metadata": {
        "colab": {
          "base_uri": "https://localhost:8080/"
        },
        "id": "e9Vg9lAoap1H",
        "outputId": "3a808f99-687b-4e06-ceee-c22648aa0bfd"
      },
      "execution_count": 20,
      "outputs": [
        {
          "output_type": "stream",
          "name": "stdout",
          "text": [
            "num_labels: 9800\n",
            "index_offset shape: (9800,)\n",
            "labels_one_hot shape: (9800, 9800)\n",
            "IndexError: index 96040000 is out of bounds for size 96040000\n",
            "labels shape: (9800, 9800)\n"
          ]
        }
      ]
    },
    {
      "cell_type": "code",
      "source": [
        "# split data into training & validation\n",
        "validation_images = images[:VALIDATION_SIZE]\n",
        "validation_labels = labels[:VALIDATION_SIZE]\n",
        "\n",
        "train_images = images[VALIDATION_SIZE:]\n",
        "train_labels = labels[VALIDATION_SIZE:]\n",
        "\n",
        "\n",
        "print('train_images({0[0]},{0[1]})'.format(train_images.shape))\n",
        "print('validation_images({0[0]},{0[1]})'.format(validation_images.shape))"
      ],
      "metadata": {
        "colab": {
          "base_uri": "https://localhost:8080/"
        },
        "id": "GlqWXQxMap2O",
        "outputId": "05d2bbda-8c0b-4bb4-de28-bc367a89cedc"
      },
      "execution_count": 21,
      "outputs": [
        {
          "output_type": "stream",
          "name": "stdout",
          "text": [
            "train_images(0,4096)\n",
            "validation_images(100,4096)\n"
          ]
        }
      ]
    },
    {
      "cell_type": "code",
      "source": [
        "# weight initialization\n",
        "def weight_variable(shape):\n",
        "    initial = tf.truncated_normal(shape, stddev=0.1)\n",
        "    return tf.Variable(initial)\n",
        "\n",
        "def bias_variable(shape):\n",
        "    initial = tf.constant(0.1, shape=shape)\n",
        "    return tf.Variable(initial)"
      ],
      "metadata": {
        "id": "rlggb6yFap3s"
      },
      "execution_count": 22,
      "outputs": []
    },
    {
      "cell_type": "code",
      "source": [
        "# convolution\n",
        "def conv2d(x, W):\n",
        "    return tf.nn.conv2d(x, W, strides=[1, 1, 1, 1], padding='SAME')"
      ],
      "metadata": {
        "id": "xxGVQBokap4t"
      },
      "execution_count": 23,
      "outputs": []
    },
    {
      "cell_type": "code",
      "source": [
        "# pooling\n",
        "# [[0,3],\n",
        "#  [4,2]] => 4\n",
        "\n",
        "# [[0,1],\n",
        "#  [1,1]] => 1\n",
        "\n",
        "def max_pool_2x2(x):\n",
        "    return tf.nn.max_pool(x, ksize=[1, 2, 2, 1], strides=[1, 2, 2, 1], padding='SAME')"
      ],
      "metadata": {
        "id": "-F8PfUjIap58"
      },
      "execution_count": 24,
      "outputs": []
    },
    {
      "cell_type": "code",
      "source": [
        "import tensorflow as tf\n",
        "\n",
        "# Weight initialization using tf.keras.initializers\n",
        "def weight_variable(shape):\n",
        "    initial = tf.keras.initializers.TruncatedNormal(stddev=0.1)(shape)\n",
        "    return tf.Variable(initial)"
      ],
      "metadata": {
        "id": "NFS1jZyLap7I"
      },
      "execution_count": 25,
      "outputs": []
    },
    {
      "cell_type": "code",
      "source": [
        "import tensorflow as tf\n",
        "\n",
        "# Define your image input placeholder using tf.keras.Input\n",
        "x = tf.keras.Input(shape=(image_width, image_height, 1), dtype=tf.float32)\n",
        "\n",
        "# ... (other parts of your code)\n",
        "\n",
        "# First convolutional layer\n",
        "W_conv1 = weight_variable([5, 5, 1, 32])\n",
        "b_conv1 = bias_variable([32])\n",
        "\n",
        "image = tf.reshape(x, [-1, image_width, image_height, 1])\n",
        "h_conv1 = tf.nn.relu(conv2d(image, W_conv1) + b_conv1)\n",
        "h_pool1 = max_pool_2x2(h_conv1)\n",
        "\n",
        "# Second convolutional layer\n",
        "W_conv2 = weight_variable([5, 5, 32, 64])\n",
        "b_conv2 = bias_variable([64])\n",
        "\n",
        "h_conv2 = tf.nn.relu(conv2d(h_pool1, W_conv2) + b_conv2)\n",
        "h_pool2 = max_pool_2x2(h_conv2)\n",
        "\n",
        "# ... (the rest of your code)"
      ],
      "metadata": {
        "colab": {
          "base_uri": "https://localhost:8080/"
        },
        "id": "N22pBbbVap8d",
        "outputId": "1c655c2d-fa78-4c8c-960f-57e2b234bcf7"
      },
      "execution_count": 26,
      "outputs": [
        {
          "output_type": "stream",
          "name": "stderr",
          "text": [
            "WARNING:tensorflow:The following Variables were used in a Lambda layer's call (tf.compat.v1.nn.conv2d), but are not present in its tracked objects:   <tf.Variable 'Variable:0' shape=(5, 5, 1, 32) dtype=float32>. This is a strong indication that the Lambda layer should be rewritten as a subclassed Layer.\n",
            "WARNING:tensorflow:The following Variables were used in a Lambda layer's call (tf.__operators__.add), but are not present in its tracked objects:   <tf.Variable 'Variable:0' shape=(32,) dtype=float32>. This is a strong indication that the Lambda layer should be rewritten as a subclassed Layer.\n",
            "WARNING:tensorflow:The following Variables were used in a Lambda layer's call (tf.compat.v1.nn.conv2d_1), but are not present in its tracked objects:   <tf.Variable 'Variable:0' shape=(5, 5, 32, 64) dtype=float32>. This is a strong indication that the Lambda layer should be rewritten as a subclassed Layer.\n",
            "WARNING:tensorflow:The following Variables were used in a Lambda layer's call (tf.__operators__.add_1), but are not present in its tracked objects:   <tf.Variable 'Variable:0' shape=(64,) dtype=float32>. This is a strong indication that the Lambda layer should be rewritten as a subclassed Layer.\n"
          ]
        }
      ]
    },
    {
      "cell_type": "code",
      "source": [
        "# densely connected layer\n",
        "W_fc1 = weight_variable([7 * 7 * 64, 1024])\n",
        "b_fc1 = bias_variable([1024])\n",
        "\n",
        "# (40000, 7, 7, 64) => (40000, 3136)\n",
        "h_pool2_flat = tf.reshape(h_pool2, [-1, 7*7*64])\n",
        "\n",
        "h_fc1 = tf.nn.relu(tf.matmul(h_pool2_flat, W_fc1) + b_fc1)\n",
        "#print (h_fc1.get_shape()) # => (40000, 1024)"
      ],
      "metadata": {
        "colab": {
          "base_uri": "https://localhost:8080/"
        },
        "id": "7GkB0FLDaqJQ",
        "outputId": "b8a774a1-e3dd-44c1-c4e7-caa6b0b65dd9"
      },
      "execution_count": 27,
      "outputs": [
        {
          "output_type": "stream",
          "name": "stderr",
          "text": [
            "WARNING:tensorflow:The following Variables were used in a Lambda layer's call (tf.linalg.matmul), but are not present in its tracked objects:   <tf.Variable 'Variable:0' shape=(3136, 1024) dtype=float32>. This is a strong indication that the Lambda layer should be rewritten as a subclassed Layer.\n",
            "WARNING:tensorflow:The following Variables were used in a Lambda layer's call (tf.__operators__.add_2), but are not present in its tracked objects:   <tf.Variable 'Variable:0' shape=(1024,) dtype=float32>. This is a strong indication that the Lambda layer should be rewritten as a subclassed Layer.\n"
          ]
        }
      ]
    },
    {
      "cell_type": "code",
      "source": [
        "# ... (other parts of your code)\n",
        "\n",
        "# Fully connected layer\n",
        "W_fc1 = weight_variable([7 * 7 * 64, 1024])\n",
        "b_fc1 = bias_variable([1024])\n",
        "\n",
        "h_pool2_flat = tf.reshape(h_pool2, [-1, 7 * 7 * 64])\n",
        "h_fc1 = tf.nn.relu(tf.matmul(h_pool2_flat, W_fc1) + b_fc1)\n",
        "\n",
        "# Dropout\n",
        "h_fc1_drop = tf.nn.dropout(h_fc1, rate=1 - keep_prob[0])\n",
        "\n",
        "# ... (the rest of your code)"
      ],
      "metadata": {
        "colab": {
          "base_uri": "https://localhost:8080/"
        },
        "id": "B4SbCkRObBbh",
        "outputId": "5e2e7782-42ba-42d9-ae18-2c7d4c48b9f4"
      },
      "execution_count": 35,
      "outputs": [
        {
          "output_type": "stream",
          "name": "stderr",
          "text": [
            "WARNING:tensorflow:The following Variables were used in a Lambda layer's call (tf.linalg.matmul_4), but are not present in its tracked objects:   <tf.Variable 'Variable:0' shape=(3136, 1024) dtype=float32>. This is a strong indication that the Lambda layer should be rewritten as a subclassed Layer.\n",
            "WARNING:tensorflow:The following Variables were used in a Lambda layer's call (tf.__operators__.add_6), but are not present in its tracked objects:   <tf.Variable 'Variable:0' shape=(1024,) dtype=float32>. This is a strong indication that the Lambda layer should be rewritten as a subclassed Layer.\n"
          ]
        }
      ]
    },
    {
      "cell_type": "code",
      "source": [
        "# ... (previous parts of your code)\n",
        "\n",
        "# Readout layer\n",
        "W_fc2 = weight_variable([1024, labels_count])\n",
        "b_fc2 = bias_variable([labels_count])\n",
        "\n",
        "y = tf.nn.softmax(tf.matmul(h_fc1_drop, W_fc2) + b_fc2)\n",
        "\n",
        "# ... (the rest of your code)"
      ],
      "metadata": {
        "colab": {
          "base_uri": "https://localhost:8080/"
        },
        "id": "8VzZ1L3YbBdk",
        "outputId": "baa1a3a1-50f4-4fbc-c7e5-4993f01861cb"
      },
      "execution_count": 36,
      "outputs": [
        {
          "output_type": "stream",
          "name": "stderr",
          "text": [
            "WARNING:tensorflow:The following Variables were used in a Lambda layer's call (tf.linalg.matmul_5), but are not present in its tracked objects:   <tf.Variable 'Variable:0' shape=(1024, 9800) dtype=float32>. This is a strong indication that the Lambda layer should be rewritten as a subclassed Layer.\n",
            "WARNING:tensorflow:The following Variables were used in a Lambda layer's call (tf.__operators__.add_7), but are not present in its tracked objects:   <tf.Variable 'Variable:0' shape=(9800,) dtype=float32>. This is a strong indication that the Lambda layer should be rewritten as a subclassed Layer.\n"
          ]
        }
      ]
    },
    {
      "cell_type": "code",
      "source": [
        "import tensorflow as tf\n",
        "\n",
        "# Define a placeholder for the true labels using tf.keras.Input\n",
        "y_ = tf.keras.Input(shape=(labels_count,), dtype=tf.float32)\n",
        "\n",
        "# ... (other parts of your code)\n",
        "\n",
        "# Cost function\n",
        "cross_entropy = tf.reduce_sum(tf.nn.softmax_cross_entropy_with_logits(labels=y_, logits=y))\n",
        "\n",
        "# Optimization function\n",
        "optimizer = tf.optimizers.Adam(learning_rate=LEARNING_RATE)\n",
        "\n",
        "# Define a function to compute gradients and apply them\n",
        "@tf.function\n",
        "def train_step():\n",
        "    gradients = tape.gradient(cross_entropy, optimizer.variables)\n",
        "    optimizer.apply_gradients(zip(gradients, optimizer.variables))\n",
        "\n",
        "# Evaluation\n",
        "correct_prediction = tf.equal(tf.argmax(y, 1), tf.argmax(y_, 1))\n",
        "accuracy = tf.reduce_mean(tf.cast(correct_prediction, 'float'))"
      ],
      "metadata": {
        "id": "Hi5VBgJwbBf1"
      },
      "execution_count": 37,
      "outputs": []
    },
    {
      "cell_type": "code",
      "source": [
        "# prediction function\n",
        "#[0.1, 0.9, 0.2, 0.1, 0.1 0.3, 0.5, 0.1, 0.2, 0.3] => 1\n",
        "predict = tf.argmax(y,1)"
      ],
      "metadata": {
        "id": "_BORyrQrbBiC"
      },
      "execution_count": 38,
      "outputs": []
    },
    {
      "cell_type": "code",
      "source": [
        "epochs_completed = 0\n",
        "index_in_epoch = 0\n",
        "num_examples = train_images.shape[0]\n",
        "\n",
        "# serve data by batches\n",
        "def next_batch(batch_size):\n",
        "\n",
        "    global train_images\n",
        "    global train_labels\n",
        "    global index_in_epoch\n",
        "    global epochs_completed\n",
        "\n",
        "    start = index_in_epoch\n",
        "    index_in_epoch += batch_size\n",
        "\n",
        "    # when all trainig data have been already used, it is reorder randomly\n",
        "    if index_in_epoch > num_examples:\n",
        "        # finished epoch\n",
        "        epochs_completed += 1\n",
        "        # shuffle the data\n",
        "        perm = np.arange(num_examples)\n",
        "        np.random.shuffle(perm)\n",
        "        train_images = train_images[perm]\n",
        "        train_labels = train_labels[perm]\n",
        "        # start next epoch\n",
        "        start = 0\n",
        "        index_in_epoch = batch_size\n",
        "        assert batch_size <= num_examples\n",
        "    end = index_in_epoch\n",
        "    return train_images[start:end], train_labels[start:end]"
      ],
      "metadata": {
        "id": "HCLMlZPDbBkT"
      },
      "execution_count": 39,
      "outputs": []
    },
    {
      "cell_type": "code",
      "source": [
        "import tensorflow as tf\n",
        "\n",
        "# Disable eager execution\n",
        "tf.compat.v1.disable_eager_execution()\n",
        "\n",
        "# Now you can use sessions and explicit variable initialization\n",
        "init = tf.compat.v1.global_variables_initializer()\n",
        "\n",
        "with tf.compat.v1.Session() as sess:\n",
        "    sess.run(init)\n",
        "    # Rest of your code with explicit session.run() calls"
      ],
      "metadata": {
        "id": "UZMr5QJKbBno"
      },
      "execution_count": 40,
      "outputs": []
    },
    {
      "cell_type": "code",
      "source": [
        "import matplotlib.pyplot as plt\n",
        "\n",
        "# ... (your training loop)\n",
        "# Assuming you have a loop that updates training and validation accuracies over iterations\n",
        "\n",
        "# Example (replace this with your actual training loop):\n",
        "num_iterations = 100  # Replace with the actual number of training iterations\n",
        "x_range = range(num_iterations)\n",
        "train_accuracies = [...]  # Replace with your actual training accuracies (a list or array)\n",
        "\n",
        "# Visualize training and validation accuracies\n",
        "plt.figure(figsize=(10, 5))\n",
        "\n",
        "# Ensure train_accuracies has the same length as x_range\n",
        "if len(train_accuracies) == num_iterations:\n",
        "    plt.plot(x_range, train_accuracies, label='Training Accuracy')\n",
        "\n",
        "# Check if validation_accuracies is defined before trying to plot\n",
        "if 'validation_accuracies' in locals():\n",
        "    # Ensure validation_accuracies has the same length as x_range\n",
        "    if len(validation_accuracies) == num_iterations:\n",
        "        plt.plot(x_range, validation_accuracies, label='Validation Accuracy')\n",
        "\n",
        "plt.xlabel('Training Iterations')\n",
        "plt.ylabel('Accuracy')\n",
        "plt.legend()\n",
        "plt.show()\n"
      ],
      "metadata": {
        "colab": {
          "base_uri": "https://localhost:8080/",
          "height": 463
        },
        "id": "mDiz0P9PaqTV",
        "outputId": "71246e1f-1649-4ac7-8872-b36b7f020562"
      },
      "execution_count": 49,
      "outputs": [
        {
          "output_type": "stream",
          "name": "stderr",
          "text": [
            "WARNING:matplotlib.legend:No artists with labels found to put in legend.  Note that artists whose label start with an underscore are ignored when legend() is called with no argument.\n"
          ]
        },
        {
          "output_type": "display_data",
          "data": {
            "text/plain": [
              "<Figure size 1000x500 with 1 Axes>"
            ],
            "image/png": "[encoded data removed]"
          },
          "metadata": {}
        }
      ]
    }
  ]
}